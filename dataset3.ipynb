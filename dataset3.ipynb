{
 "cells": [
  {
   "cell_type": "code",
   "execution_count": null,
   "metadata": {},
   "outputs": [],
   "source": [
    "import datasets\n",
    "\n",
    "dataset = load_dataset(\"speechcolab/gigaspeech\", \"xs\")\n",
    "\n",
    "print(dataset[\"train\"][0])\n",
    "\n",
    "dataset[\"train\"].features"
   ]
  }
 ],
 "metadata": {
  "language_info": {
   "name": "python"
  }
 },
 "nbformat": 4,
 "nbformat_minor": 2
}
