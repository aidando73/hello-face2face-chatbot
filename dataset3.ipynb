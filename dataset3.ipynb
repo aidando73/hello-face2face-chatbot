{
 "cells": [
  {
   "cell_type": "code",
   "execution_count": 4,
   "metadata": {},
   "outputs": [
    {
     "name": "stderr",
     "output_type": "stream",
     "text": [
      "Generating validation split: 6750 examples [00:16, 417.66 examples/s]\n"
     ]
    },
    {
     "name": "stdout",
     "output_type": "stream",
     "text": [
      "{'segment_id': 'YOU1000000044_S0001436', 'speaker': 'N/A', 'text': \"A LOT OF IT BEEN THE MARKETING OUR SITE <COMMA> THAT <COMMA> REALLY IS JUST GETTING PEOPLE TO WATCH IT <COMMA> AH THAT'S BEEN THE BIGGEST PART OF ALL FOR GROWING <PERIOD>\", 'audio': {'path': '/workspace/.cache/huggingface/datasets/downloads/extracted/70ac59c6af94fb41351d20f03e7f103958d909080822b8504e3733160a7fa84c/dev_chunks_0000/YOU1000000044_S0001436.wav', 'array': array([ 0.00146484,  0.00024414,  0.00015259, ...,  0.00015259,\n",
      "        0.00021362, -0.00012207], shape=(132160,)), 'sampling_rate': 16000}, 'begin_time': 7119.20703125, 'end_time': 7127.466796875, 'audio_id': 'YOU1000000044', 'title': 'YOU1000000044', 'url': 'N/A', 'source': 2, 'category': 10, 'original_full_path': 'audio/youtube/P0000/YOU1000000044.opus'}\n"
     ]
    },
    {
     "data": {
      "text/plain": [
       "{'segment_id': Value(dtype='string', id=None),\n",
       " 'speaker': Value(dtype='string', id=None),\n",
       " 'text': Value(dtype='string', id=None),\n",
       " 'audio': Audio(sampling_rate=16000, mono=True, decode=True, id=None),\n",
       " 'begin_time': Value(dtype='float32', id=None),\n",
       " 'end_time': Value(dtype='float32', id=None),\n",
       " 'audio_id': Value(dtype='string', id=None),\n",
       " 'title': Value(dtype='string', id=None),\n",
       " 'url': Value(dtype='string', id=None),\n",
       " 'source': ClassLabel(names=('audiobook', 'podcast', 'youtube'), id=None),\n",
       " 'category': ClassLabel(names=('People  and  Blogs', 'Business', 'Nonprofits  and  Activism', 'Crime', 'History', 'Pets  and  Animals', 'News and Politics', 'Travel and Events', 'Kids and Family', 'Leisure', 'N/A', 'Comedy', 'News  and  Politics', 'Sports', 'Arts', 'Science  and  Technology', 'Autos  and  Vehicles', 'Science and Technology', 'People and Blogs', 'Music', 'Society and Culture', 'Education', 'Howto  and  Style', 'Film  and  Animation', 'Gaming', 'Entertainment', 'Travel  and  Events', 'Health and Fitness', 'audiobook'), id=None),\n",
       " 'original_full_path': Value(dtype='string', id=None)}"
      ]
     },
     "execution_count": 4,
     "metadata": {},
     "output_type": "execute_result"
    }
   ],
   "source": [
    "import datasets\n",
    "from datasets import load_dataset\n",
    "\n",
    "import os\n",
    "\n",
    "# Load environment variables from .envrc\n",
    "with open('.envrc') as f:\n",
    "    for line in f:\n",
    "        if line.strip() and not line.strip().startswith('#'):\n",
    "            key, value = line.replace('export ', '').strip().split('=', 1)\n",
    "            os.environ[key] = value.strip('\"\\'')\n",
    "\n",
    "\n",
    "dataset = load_dataset(\"speechcolab/gigaspeech\", \"dev\", token=os.environ[\"HF_TOKEN\"], trust_remote_code=True)\n",
    "\n",
    "print(dataset[\"validation\"][0])\n",
    "\n",
    "dataset[\"validation\"].features"
   ]
  },
  {
   "cell_type": "code",
   "execution_count": null,
   "metadata": {},
   "outputs": [],
   "source": [
    "dataset[\"validation\"][0]"
   ]
  }
 ],
 "metadata": {
  "language_info": {
   "name": "python"
  }
 },
 "nbformat": 4,
 "nbformat_minor": 2
}
