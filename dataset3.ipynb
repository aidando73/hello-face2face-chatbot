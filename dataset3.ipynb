{
 "cells": [
  {
   "cell_type": "code",
   "execution_count": null,
   "metadata": {},
   "outputs": [],
   "source": [
    "import datasets\n",
    "from datasets import load_dataset\n",
    "\n",
    "import os\n",
    "\n",
    "# Load environment variables from .envrc\n",
    "with open('.envrc') as f:\n",
    "    for line in f:\n",
    "        if line.strip() and not line.strip().startswith('#'):\n",
    "            key, value = line.replace('export ', '').strip().split('=', 1)\n",
    "            os.environ[key] = value.strip('\"\\'')\n",
    "\n",
    "\n",
    "dataset = load_dataset(\"speechcolab/gigaspeech\", \"xs\", token=os.environ[\"HF_TOKEN\"], trust_remote_code=True)\n",
    "\n",
    "print(dataset[\"train\"][0])\n",
    "\n",
    "dataset[\"train\"].features"
   ]
  },
  {
   "cell_type": "code",
   "execution_count": null,
   "metadata": {},
   "outputs": [],
   "source": []
  }
 ],
 "metadata": {
  "language_info": {
   "name": "python"
  }
 },
 "nbformat": 4,
 "nbformat_minor": 2
}
